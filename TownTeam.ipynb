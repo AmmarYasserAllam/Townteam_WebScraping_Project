{
 "cells": [
  {
   "cell_type": "code",
   "execution_count": 43,
   "id": "26b60965",
   "metadata": {},
   "outputs": [],
   "source": [
    "import requests\n",
    "from bs4 import BeautifulSoup\n",
    "import csv\n",
    "from itertools import zip_longest"
   ]
  },
  {
   "cell_type": "code",
   "execution_count": 45,
   "id": "338aa05c",
   "metadata": {},
   "outputs": [
    {
     "name": "stdout",
     "output_type": "stream",
     "text": [
      "prod_names 36\n",
      "reg_prices 46\n",
      "sale_prices 46\n",
      "sale_percents 36\n",
      "new_badges 18\n",
      "sizes 36\n",
      "colors 36\n"
     ]
    }
   ],
   "source": [
    "print('prod_names',len(prod_names)) \n",
    "print('reg_prices',len(reg_prices))\n",
    "print('sale_prices',len(sale_prices))\n",
    "print('sale_percents',len(sale_percents))\n",
    "print('new_badges',len(new_badges))\n",
    "print('sizes',len(sizes))\n",
    "print('colors',len(colors))\n"
   ]
  },
  {
   "cell_type": "code",
   "execution_count": 127,
   "id": "ba01eac4",
   "metadata": {},
   "outputs": [
    {
     "name": "stdout",
     "output_type": "stream",
     "text": [
      "page switched\n",
      "page switched\n",
      "page switched\n",
      "page switched\n",
      "page switched\n",
      "page switched\n",
      "page switched\n",
      "page switched\n",
      "page switched\n",
      "page switched\n",
      "page switched\n",
      "page switched\n",
      "page switched\n",
      "page switched\n",
      "page switched\n",
      "page switched\n",
      "page switched\n",
      "page switched\n",
      "page switched\n",
      "page switched\n",
      "page switched\n",
      "page switched\n",
      "page switched\n",
      "page switched\n",
      "pages ended\n"
     ]
    }
   ],
   "source": [
    "prod_name = []\n",
    "reg_price = []\n",
    "sale_price = []\n",
    "sale_percent = []\n",
    "new_badge = []\n",
    "size = []\n",
    "color = []\n",
    "link = []\n",
    "\n",
    "page_num = 1\n",
    "while True :\n",
    "    result = requests.get(f'https://townteam.com/collections/summer-collection?filter.p.product_type=MEN&filter.p.product_type=Men+Belts&page={page_num}&sort_by=manual')\n",
    "    src = result.content\n",
    "    soup = BeautifulSoup(src,'lxml')\n",
    "    \n",
    "    if (page_num > 493 // 20):\n",
    "        print('pages ended')\n",
    "        break\n",
    "\n",
    "    prod_names = soup.find_all('div',{'class' : 'card-summary card-list__hidden'})\n",
    "    reg_prices = soup.find_all('s',{'class' : 'price-item price-item--regular'})\n",
    "    sale_prices = soup.find_all('span',{'class' : 'price-item price-item--sale'})\n",
    "    sale_percents = soup.find_all('span',{'class' : 'badge sale-badge'})\n",
    "    new_badges = soup.find_all('span',{'class' : 'badge new-badge'})\n",
    "    sizes = soup.find_all('ul',{'class' : 'sizes-list'})\n",
    "    colors = soup.find_all('span',{'data-change-title' : True})\n",
    "    links = soup.find_all('a',{'class' : 'button button-ATC'})\n",
    "\n",
    "\n",
    "    for i in range(len(prod_names)):\n",
    "        \n",
    "        # Check if there are enough'prod_names', otherwise assign a default value\n",
    "        if i < len(prod_names):\n",
    "            prod_name.append(prod_names[i].text.strip())\n",
    "        else:\n",
    "            prod_name.append('N/A')\n",
    "        \n",
    "        # Check if there are enough'new_badges', otherwise assign a default value\n",
    "        if i < len(new_badges):\n",
    "            reg_price.append(reg_prices[i].text.strip())\n",
    "        else:\n",
    "            reg_price.append('N/A')\n",
    "        \n",
    "        \n",
    "        # Check if there are enough'sale_prices', otherwise assign a default value\n",
    "        if i < len(sale_prices):\n",
    "            sale_price.append(sale_prices[i].text.strip())\n",
    "        else:\n",
    "            sale_price.append('N/A')\n",
    "        \n",
    "        \n",
    "        # Check if there are enough'sale_percents', otherwise assign a default value\n",
    "        if i < len(sale_percents):\n",
    "            percenttxt = sale_percents[i].text.strip()\n",
    "            sale_percent.append(percenttxt[4:].strip())\n",
    "        else:\n",
    "            sale_percent.append('N/A')\n",
    "        \n",
    "        # Check if there are enough'sizes', otherwise assign a default value\n",
    "        if i < len(sizes):\n",
    "            size.append(sizes[i].text.strip())\n",
    "        else:\n",
    "            size.append('N/A')\n",
    "        \n",
    "        # Check if there are enough'colors', otherwise assign a default value\n",
    "        if i < len(colors):\n",
    "            colortxt = colors[i].text.strip()\n",
    "            color.append(colortxt[2:])\n",
    "        else:\n",
    "            color.append('N/A')\n",
    "            \n",
    "        # Check if there are enough'links', otherwise assign a default value\n",
    "        if i < len(links):\n",
    "            link_complete = ('https://townteam.com/' + links[i].get('href'))\n",
    "            link.append(link_complete)\n",
    "        else:\n",
    "            link.append('N/A')\n",
    "            \n",
    "        # Check if there are enough'new_badges', otherwise assign a default value\n",
    "        if i < len(new_badges):\n",
    "            new_badge.append(new_badges[i].text.strip())\n",
    "        else:\n",
    "            new_badge.append('N/A')\n",
    "    \n",
    "    page_num +=1\n",
    "    print('page switched')\n",
    "    \n",
    "    \n",
    "#Create csv file and fill it with values:\n",
    "\n",
    "file_list = [prod_name, reg_price, sale_price, sale_percent, new_badge, size, color, link ]\n",
    "exported = zip_longest(*file_list)\n",
    "with open(r'G:\\Courses\\Data science\\Role Models\\Codezilla\\Web Scraping/TownTeamScraping.csv','w',\\\n",
    "          newline ='', encoding='utf-8') as myfile :\n",
    "    wr = csv.writer(myfile)\n",
    "    wr.writerow(['prod_name', 'reg_price', 'sale_price', 'sale_percent', 'new_badge', 'size', 'color', 'Link'])\n",
    "    wr.writerows(exported)\n"
   ]
  },
  {
   "cell_type": "code",
   "execution_count": null,
   "id": "fa7fdb0f",
   "metadata": {},
   "outputs": [],
   "source": []
  },
  {
   "cell_type": "code",
   "execution_count": null,
   "id": "96254b5d",
   "metadata": {},
   "outputs": [],
   "source": []
  },
  {
   "cell_type": "code",
   "execution_count": null,
   "id": "17575cb3",
   "metadata": {},
   "outputs": [],
   "source": []
  },
  {
   "cell_type": "code",
   "execution_count": null,
   "id": "b4bca5fb",
   "metadata": {},
   "outputs": [],
   "source": []
  },
  {
   "cell_type": "code",
   "execution_count": null,
   "id": "f4ddaf90",
   "metadata": {},
   "outputs": [],
   "source": []
  },
  {
   "cell_type": "code",
   "execution_count": null,
   "id": "cbf6560f",
   "metadata": {},
   "outputs": [],
   "source": []
  },
  {
   "cell_type": "code",
   "execution_count": null,
   "id": "80dd8cfd",
   "metadata": {},
   "outputs": [],
   "source": []
  },
  {
   "cell_type": "code",
   "execution_count": null,
   "id": "1fe7a560",
   "metadata": {},
   "outputs": [],
   "source": []
  },
  {
   "cell_type": "code",
   "execution_count": null,
   "id": "2fecdc78",
   "metadata": {},
   "outputs": [],
   "source": []
  },
  {
   "cell_type": "code",
   "execution_count": null,
   "id": "05c7efb1",
   "metadata": {},
   "outputs": [],
   "source": []
  }
 ],
 "metadata": {
  "kernelspec": {
   "display_name": "Python 3 (ipykernel)",
   "language": "python",
   "name": "python3"
  },
  "language_info": {
   "codemirror_mode": {
    "name": "ipython",
    "version": 3
   },
   "file_extension": ".py",
   "mimetype": "text/x-python",
   "name": "python",
   "nbconvert_exporter": "python",
   "pygments_lexer": "ipython3",
   "version": "3.10.9"
  }
 },
 "nbformat": 4,
 "nbformat_minor": 5
}
